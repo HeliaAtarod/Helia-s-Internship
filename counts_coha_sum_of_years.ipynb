{
 "cells": [
  {
   "cell_type": "code",
   "execution_count": 9,
   "id": "50dbb496",
   "metadata": {},
   "outputs": [],
   "source": [
    "import pandas as pd\n",
    "import numpy as np\n",
    "import spacy\n",
    "\n",
    "\n",
    "df = pd.read_csv(\"items-agg.csv\")\n",
    "entities = df[\"item\"].tolist()\n",
    "patiency=df[\"patiency\"].tolist()\n",
    "agency=df[\"agency\"].tolist()\n"
   ]
  },
  {
   "cell_type": "code",
   "execution_count": 10,
   "id": "cbd10342",
   "metadata": {},
   "outputs": [],
   "source": [
    "num_W=len(entities)\n",
    "\n",
    "sum_df={'word':entities , 'agency':agency , 'patiency': patiency , 'nsubj':[0]*num_W , 'nsubjpass':[0]*num_W , 'dobj':[0]*num_W , 'pobj':[0]*num_W }\n",
    "\n",
    "sum_df=pd.DataFrame(sum_df)  \n",
    "\n",
    "\n",
    "years = [str(i) for i in range(1820, 2020, 10)]\n",
    "for i in years:\n",
    "    main= pd.read_csv(\"dep_counts_coha\"+str(i)+\".csv\") \n",
    "    sum_df['nsubjpass']+=main['nsubjpass']\n",
    "    sum_df['pobj']+=main['pobj']\n",
    "    sum_df['dobj']+=main['dobj']\n",
    "    sum_df['nsubj']+=main['nsubj']\n",
    "    \n",
    "sum_df.to_csv('counts_coha_sum_of_years')"
   ]
  },
  {
   "cell_type": "code",
   "execution_count": 7,
   "id": "de19d0a4",
   "metadata": {},
   "outputs": [],
   "source": [
    "\n",
    "    "
   ]
  },
  {
   "cell_type": "code",
   "execution_count": null,
   "id": "9fbc0074",
   "metadata": {},
   "outputs": [],
   "source": []
  }
 ],
 "metadata": {
  "kernelspec": {
   "display_name": "Python 3 (ipykernel)",
   "language": "python",
   "name": "python3"
  },
  "language_info": {
   "codemirror_mode": {
    "name": "ipython",
    "version": 3
   },
   "file_extension": ".py",
   "mimetype": "text/x-python",
   "name": "python",
   "nbconvert_exporter": "python",
   "pygments_lexer": "ipython3",
   "version": "3.9.7"
  }
 },
 "nbformat": 4,
 "nbformat_minor": 5
}
