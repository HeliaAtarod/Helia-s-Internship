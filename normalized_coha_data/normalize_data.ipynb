{
 "cells": [
  {
   "cell_type": "code",
   "execution_count": 4,
   "id": "016f0d3c",
   "metadata": {},
   "outputs": [],
   "source": [
    "import pandas as pd\n",
    "import numpy as np"
   ]
  },
  {
   "cell_type": "code",
   "execution_count": 5,
   "id": "139618b2",
   "metadata": {},
   "outputs": [],
   "source": [
    "years = [str(i) for i in range(1820, 2020, 10)]\n",
    "year_counts={i:0 for i in years }\n",
    "for year in years:\n",
    "    with open( \"all_\"+str(year)+\".txt\") as f:\n",
    "        lines = f.readlines()\n",
    "    for i in lines :\n",
    "        year_counts[year]+=len(i.split())\n",
    "    "
   ]
  },
  {
   "cell_type": "code",
   "execution_count": 6,
   "id": "f66c94de",
   "metadata": {},
   "outputs": [],
   "source": [
    "for year in years:\n",
    "    df=pd.read_csv('dep_counts_coha'+year+'.csv')\n",
    "    df['nsubj']=(df['nsubj']*21000000)/year_counts[year]\n",
    "    df['nsubjpass']=(df['nsubjpass']*21000000)/year_counts[year]\n",
    "    df['dobj']=(df['dobj']*21000000)/year_counts[year]\n",
    "    df['pobj']=(df['pobj']*21000000)/year_counts[year]\n",
    "    df.to_csv('dep_counts_coha'+year+'.csv')"
   ]
  },
  {
   "cell_type": "code",
   "execution_count": null,
   "id": "710dfdc8",
   "metadata": {},
   "outputs": [],
   "source": []
  },
  {
   "cell_type": "code",
   "execution_count": null,
   "id": "550b1a04",
   "metadata": {},
   "outputs": [],
   "source": []
  }
 ],
 "metadata": {
  "kernelspec": {
   "display_name": "Python 3 (ipykernel)",
   "language": "python",
   "name": "python3"
  },
  "language_info": {
   "codemirror_mode": {
    "name": "ipython",
    "version": 3
   },
   "file_extension": ".py",
   "mimetype": "text/x-python",
   "name": "python",
   "nbconvert_exporter": "python",
   "pygments_lexer": "ipython3",
   "version": "3.9.7"
  }
 },
 "nbformat": 4,
 "nbformat_minor": 5
}
