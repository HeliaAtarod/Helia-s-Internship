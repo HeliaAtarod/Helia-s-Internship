{
 "cells": [
  {
   "cell_type": "code",
   "execution_count": 1,
   "id": "b648ce6d",
   "metadata": {},
   "outputs": [],
   "source": [
    "import pandas as pd\n",
    "import numpy as np"
   ]
  },
  {
   "cell_type": "code",
   "execution_count": 3,
   "id": "b847456a",
   "metadata": {},
   "outputs": [],
   "source": [
    "\n",
    "years = [str(i) for i in range(1820, 2020, 10)]\n",
    "year_counts={i:0 for i in years }\n",
    "for year in years:\n",
    "    with open( r\"C:\\Users\\Atarod-PC\\Desktop\\ETH\\all_\"+str(year)+\".txt\") as f:\n",
    "        lines = f.readlines()\n",
    "    for i in lines :\n",
    "        year_counts[year]+=len(i.split())"
   ]
  },
  {
   "cell_type": "code",
   "execution_count": 4,
   "id": "44d1fff7",
   "metadata": {},
   "outputs": [],
   "source": [
    "\n",
    "for year in years:\n",
    "    df=pd.read_csv('dep_counts_coha'+year+'.csv')\n",
    "    df['nsubj']=((df['nsubj']+1)*21000000)/year_counts[year]\n",
    "    df['nsubjpass']=((df['nsubjpass']+1)*21000000)/year_counts[year]\n",
    "    df['dobj']=((df['dobj']+1)*21000000)/year_counts[year]\n",
    "    df['pobj']=((df['pobj']+1)*21000000)/year_counts[year]\n",
    "    df['agent']=((df['agent']+1)*21000000)/year_counts[year]\n",
    "    df.to_csv('dep_counts_coha'+year+'.csv')"
   ]
  },
  {
   "cell_type": "code",
   "execution_count": null,
   "id": "ac68b797",
   "metadata": {},
   "outputs": [],
   "source": []
  },
  {
   "cell_type": "code",
   "execution_count": null,
   "id": "499d7a63",
   "metadata": {},
   "outputs": [],
   "source": []
  },
  {
   "cell_type": "code",
   "execution_count": null,
   "id": "b4e96458",
   "metadata": {},
   "outputs": [],
   "source": []
  }
 ],
 "metadata": {
  "kernelspec": {
   "display_name": "Python 3 (ipykernel)",
   "language": "python",
   "name": "python3"
  },
  "language_info": {
   "codemirror_mode": {
    "name": "ipython",
    "version": 3
   },
   "file_extension": ".py",
   "mimetype": "text/x-python",
   "name": "python",
   "nbconvert_exporter": "python",
   "pygments_lexer": "ipython3",
   "version": "3.9.7"
  }
 },
 "nbformat": 4,
 "nbformat_minor": 5
}
